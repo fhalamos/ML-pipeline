{
 "cells": [
  {
   "cell_type": "markdown",
   "metadata": {},
   "source": [
    "Inspired/based on https://github.com/rayidghani/magicloops and https://github.com/dssg/MLforPublicPolicy/blob/master/labs/2019/lab6_feature_generation_sol.ipynb"
   ]
  },
  {
   "cell_type": "code",
   "execution_count": 80,
   "metadata": {},
   "outputs": [],
   "source": [
    "import pipeline_v2 as pipeline\n",
    "import importlib\n",
    "import datetime\n",
    "import pandas as pd\n",
    "import numpy as np"
   ]
  },
  {
   "cell_type": "markdown",
   "metadata": {},
   "source": [
    "# Read data"
   ]
  },
  {
   "cell_type": "code",
   "execution_count": 81,
   "metadata": {},
   "outputs": [],
   "source": [
    "importlib.reload(pipeline)\n",
    "\n",
    "datafile = \"projects_2012_2013.csv\"\n",
    "data = pd.read_csv(datafile, parse_dates=['date_posted', 'datefullyfunded'])"
   ]
  },
  {
   "cell_type": "markdown",
   "metadata": {},
   "source": [
    "# Explore data"
   ]
  },
  {
   "cell_type": "code",
   "execution_count": 82,
   "metadata": {},
   "outputs": [
    {
     "name": "stdout",
     "output_type": "stream",
     "text": [
      "Data exploration...\n",
      "\n",
      "Number of rows: 124976\n",
      "\n",
      "Columns and types of data:\n",
      "projectid                                         object\n",
      "teacher_acctid                                    object\n",
      "schoolid                                          object\n",
      "school_ncesid                                    float64\n",
      "school_latitude                                  float64\n",
      "school_longitude                                 float64\n",
      "school_city                                       object\n",
      "school_state                                      object\n",
      "school_metro                                      object\n",
      "school_district                                   object\n",
      "school_county                                     object\n",
      "school_charter                                    object\n",
      "school_magnet                                     object\n",
      "teacher_prefix                                    object\n",
      "primary_focus_subject                             object\n",
      "primary_focus_area                                object\n",
      "secondary_focus_subject                           object\n",
      "secondary_focus_area                              object\n",
      "resource_type                                     object\n",
      "poverty_level                                     object\n",
      "grade_level                                       object\n",
      "total_price_including_optional_support           float64\n",
      "students_reached                                 float64\n",
      "eligible_double_your_impact_match                 object\n",
      "date_posted                               datetime64[ns]\n",
      "datefullyfunded                           datetime64[ns]\n",
      "dtype: object\n",
      "\n",
      "\n",
      "Statistics for selected variables:\n",
      "count    124976.000000\n",
      "mean        654.011811\n",
      "std        1098.015854\n",
      "min          92.000000\n",
      "25%         345.810000\n",
      "50%         510.500000\n",
      "75%         752.960000\n",
      "max      164382.840000\n",
      "Name: total_price_including_optional_support, dtype: float64\n",
      "Number of outliers (>4 standard dev):521\n",
      "\n",
      "\n",
      "count    124917.000000\n",
      "mean         95.445760\n",
      "std         163.481912\n",
      "min           1.000000\n",
      "25%          23.000000\n",
      "50%          30.000000\n",
      "75%         100.000000\n",
      "max       12143.000000\n",
      "Name: students_reached, dtype: float64\n",
      "Number of outliers (>4 standard dev):2063\n",
      "\n",
      "\n",
      "\n",
      "\n",
      "Correlation between ['total_price_including_optional_support', 'students_reached']\n",
      "0.17662743502916253\n"
     ]
    },
    {
     "data": {
      "image/png": "[encoded data removed]",
      "text/plain": [
       "<Figure size 432x288 with 1 Axes>"
      ]
     },
     "metadata": {
      "needs_background": "light"
     },
     "output_type": "display_data"
    },
    {
     "data": {
      "image/png": "[encoded data removed]",
      "text/plain": [
       "<Figure size 432x288 with 1 Axes>"
      ]
     },
     "metadata": {
      "needs_background": "light"
     },
     "output_type": "display_data"
    }
   ],
   "source": [
    "importlib.reload(pipeline)\n",
    "\n",
    "stats_for_variables = [\n",
    "  'total_price_including_optional_support',\n",
    "  'students_reached'\n",
    "]\n",
    "\n",
    "variables_for_correlation = [\n",
    "  'total_price_including_optional_support',\n",
    "  'students_reached'\n",
    "]\n",
    "\n",
    "pipeline.explore_data(data, stats_for_variables, variables_for_correlation)"
   ]
  },
  {
   "cell_type": "markdown",
   "metadata": {},
   "source": [
    "We can clearly see in the histograms that total_price_including_optional_support and students_reached have very big outliers."
   ]
  },
  {
   "cell_type": "markdown",
   "metadata": {},
   "source": [
    "# Create outcome label"
   ]
  },
  {
   "cell_type": "code",
   "execution_count": 83,
   "metadata": {},
   "outputs": [],
   "source": [
    "importlib.reload(pipeline)\n",
    "\n",
    "# The task is to predict if a project will not get fully funded within 60 days of posting.\n",
    "data['duration_of_funding'] = data.datefullyfunded - data.date_posted\n",
    "data['not_funded_in_60'] =  np.where(data['duration_of_funding']<=pd.Timedelta('60 days'), 1, 0)\n",
    "output_label ='not_funded_in_60'"
   ]
  },
  {
   "cell_type": "markdown",
   "metadata": {},
   "source": [
    "# Create features"
   ]
  },
  {
   "cell_type": "code",
   "execution_count": 84,
   "metadata": {},
   "outputs": [],
   "source": [
    "#We will create binary features for categorical data, discretize features for contiuous data, and an aggregation feature\n",
    "\n",
    "#Select columns from which we will create binary features. We use string string columns who have less than 50 different values (we dont want to generate too many binary values)\n",
    "str_columns = [column for column in data.columns if data[column].dtype=='object' and len(data[column].unique())<51]\n",
    "\n",
    "#Columns with float values to generate discrete features\n",
    "float_columns = ['total_price_including_optional_support', 'students_reached']\n"
   ]
  },
  {
   "cell_type": "code",
   "execution_count": 85,
   "metadata": {},
   "outputs": [],
   "source": [
    "importlib.reload(pipeline)\n",
    "\n",
    "#Generate the binary features\n",
    "features = pipeline.create_dummies(data[str_columns], str_columns)\n",
    "\n",
    "#Genereate discretized features. Using qcut due to outliers (if not, almost all datapoints end up in 'low')\n",
    "for float_column in float_columns:\n",
    "  features[float_column] = pd.qcut(data[float_column], 5, labels=['low', 'medium low', 'medium', 'medium high', 'high'])\n",
    "  \n",
    "# Generate binary features for the new discretized columns\n",
    "features = pipeline.create_dummies(features, float_columns)"
   ]
  },
  {
   "cell_type": "code",
   "execution_count": 86,
   "metadata": {},
   "outputs": [],
   "source": [
    "#Aggregate feature: number of projects that got funded in the last 10 days. Idea: if many projects have been funded lately, this could be good info to predictor if a project will be funded soon\n",
    "\n",
    "#List of all dates where projects have been posted\n",
    "date_posted_list = pd.to_datetime(data['date_posted'].unique())\n",
    "\n",
    "#We use a dictionary to save the amount of projects that have been funded within the last 10 days in each specific day\n",
    "num_projects_funded_dict = {}\n",
    "\n",
    "#For every possible date_posted\n",
    "for date_posted in date_posted_list:\n",
    "  #For each project, we calculate the difference between the current observed date and the project funded date\n",
    "  #Lets remember that the difference between a value (date_posted) and a series (data['datefullyfunded']) is a series\n",
    "  diff_date_and_fully_funded = date_posted - data['datefullyfunded']\n",
    "  \n",
    "  #Count how many projects have a difference between fully funded date and current date bigger than 0 and smaller or equal than 10\n",
    "  amount_funded_in_last_10_days = np.sum((diff_date_and_fully_funded>pd.Timedelta('0 days')) & (diff_date_and_fully_funded<=pd.Timedelta('10 days')))\n",
    "  \n",
    "  #Save the amount in dictionary\n",
    "  num_projects_funded_dict[date_posted.strftime(\"%Y%m%d\")]= amount_funded_in_last_10_days\n",
    "\n",
    "#We create the column to be attached, initially full of zeros for each row in the dataframe\n",
    "num_of_projects_funded_10_days = np.zeros(len(data))\n",
    "for index, row in data.iterrows():\n",
    "  num_of_projects_funded_10_days[index] = num_projects_funded_dict[row['date_posted'].strftime(\"%Y%m%d\")]"
   ]
  },
  {
   "cell_type": "code",
   "execution_count": 87,
   "metadata": {},
   "outputs": [],
   "source": [
    "#Attach the created column to features\n",
    "features['num_of_projects_funded_10_days']=num_of_projects_funded_10_days"
   ]
  },
  {
   "cell_type": "markdown",
   "metadata": {},
   "source": [
    "# Create temporal train and test sets"
   ]
  },
  {
   "cell_type": "code",
   "execution_count": 88,
   "metadata": {},
   "outputs": [],
   "source": [
    "importlib.reload(pipeline)\n",
    "from dateutil.relativedelta import relativedelta\n",
    "\n",
    "#Create three sets of train and test data, based on threee different split thresholds\n",
    "#The split thresholds corresponds to the starting date of the testing data\n",
    "split_thresholds = [pd.Timestamp(2013,7,1), pd.Timestamp(2013,1,1), pd.Timestamp(2012,7,1)]\n",
    "\n",
    "#Indicating which is the column to be used for splitting training and test daata\n",
    "date_column='date_posted'\n",
    "\n",
    "#Amount of data used for test set\n",
    "test_window = relativedelta(months=6)\n",
    "\n",
    "#Gap needed between training and test set. 60 days in this case\n",
    "gap_training_test = relativedelta(days=100)\n",
    "\n",
    "#Generate train and test sets\n",
    "train_test_sets= pipeline.create_temp_validation_train_and_testing_sets(\n",
    "  data,\n",
    "  features,\n",
    "  date_column,\n",
    "  output_label,\n",
    "  split_thresholds,\n",
    "  test_window,\n",
    "  gap_training_test)"
   ]
  },
  {
   "cell_type": "markdown",
   "metadata": {},
   "source": [
    "# Process data"
   ]
  },
  {
   "cell_type": "code",
   "execution_count": 89,
   "metadata": {
    "scrolled": true
   },
   "outputs": [],
   "source": [
    "importlib.reload(pipeline)\n",
    "\n",
    "columns_to_process = [\n",
    "  'total_price_including_optional_support',\n",
    "  'students_reached'\n",
    "]"
   ]
  },
  {
   "cell_type": "markdown",
   "metadata": {},
   "source": [
    "# Build Clasifiers and parameters generation"
   ]
  },
  {
   "cell_type": "code",
   "execution_count": 90,
   "metadata": {},
   "outputs": [],
   "source": [
    "importlib.reload(pipeline)\n",
    "\n",
    "#We define the specific models we want to runfrom sklearn.naive_bayes import GaussianNB\n",
    "models_to_run=['DT','LR','RF','ET','AB','GB']#,'BA', 'SVM','KNN','NB']\n",
    "\n",
    "#Get all posible models and their different sets of parameters\n",
    "models, parameters_grid = pipeline.get_models_and_parameters()\n"
   ]
  },
  {
   "cell_type": "markdown",
   "metadata": {},
   "source": [
    "# Loop over models and different training/test sets"
   ]
  },
  {
   "cell_type": "code",
   "execution_count": 91,
   "metadata": {},
   "outputs": [
    {
     "ename": "KeyError",
     "evalue": "'split_threshold'",
     "output_type": "error",
     "traceback": [
      "\u001b[0;31m---------------------------------------------------------------------------\u001b[0m",
      "\u001b[0;31mKeyError\u001b[0m                                  Traceback (most recent call last)",
      "\u001b[0;32m<ipython-input-91-7a0d4428e49b>\u001b[0m in \u001b[0;36m<module>\u001b[0;34m\u001b[0m\n\u001b[1;32m      1\u001b[0m \u001b[0mimportlib\u001b[0m\u001b[0;34m.\u001b[0m\u001b[0mreload\u001b[0m\u001b[0;34m(\u001b[0m\u001b[0mpipeline\u001b[0m\u001b[0;34m)\u001b[0m\u001b[0;34m\u001b[0m\u001b[0m\n\u001b[1;32m      2\u001b[0m \u001b[0;34m\u001b[0m\u001b[0m\n\u001b[0;32m----> 3\u001b[0;31m \u001b[0mresults\u001b[0m \u001b[0;34m=\u001b[0m \u001b[0mpipeline\u001b[0m\u001b[0;34m.\u001b[0m\u001b[0miterate_over_models_and_training_test_sets\u001b[0m\u001b[0;34m(\u001b[0m\u001b[0mmodels_to_run\u001b[0m\u001b[0;34m,\u001b[0m \u001b[0mmodels\u001b[0m\u001b[0;34m,\u001b[0m \u001b[0mparameters_grid\u001b[0m\u001b[0;34m,\u001b[0m \u001b[0mtrain_test_sets\u001b[0m\u001b[0;34m)\u001b[0m\u001b[0;34m\u001b[0m\u001b[0m\n\u001b[0m\u001b[1;32m      4\u001b[0m \u001b[0mresults\u001b[0m\u001b[0;34m\u001b[0m\u001b[0m\n",
      "\u001b[0;32m~/ML-pipeline/pipeline_v2.py\u001b[0m in \u001b[0;36miterate_over_models_and_training_test_sets\u001b[0;34m(models_to_run, models, parameters_grid, train_test_sets)\u001b[0m\n\u001b[1;32m    357\u001b[0m       \u001b[0mparameter_values\u001b[0m \u001b[0;34m=\u001b[0m \u001b[0mparameters_grid\u001b[0m\u001b[0;34m[\u001b[0m\u001b[0mmodels_to_run\u001b[0m\u001b[0;34m[\u001b[0m\u001b[0mindex\u001b[0m\u001b[0;34m]\u001b[0m\u001b[0;34m]\u001b[0m\u001b[0;34m\u001b[0m\u001b[0m\n\u001b[1;32m    358\u001b[0m \u001b[0;34m\u001b[0m\u001b[0m\n\u001b[0;32m--> 359\u001b[0;31m       \u001b[0mprint\u001b[0m\u001b[0;34m(\u001b[0m\u001b[0;34m\"Running \"\u001b[0m\u001b[0;34m+\u001b[0m\u001b[0mstr\u001b[0m\u001b[0;34m(\u001b[0m\u001b[0mmodels_to_run\u001b[0m\u001b[0;34m[\u001b[0m\u001b[0mindex\u001b[0m\u001b[0;34m]\u001b[0m\u001b[0;34m)\u001b[0m\u001b[0;34m+\u001b[0m\u001b[0;34m\" with params: \"\u001b[0m\u001b[0;34m+\u001b[0m\u001b[0mstr\u001b[0m\u001b[0;34m(\u001b[0m\u001b[0mparameter_values\u001b[0m\u001b[0;34m)\u001b[0m \u001b[0;34m+\u001b[0m\u001b[0;34m\" on train/test set \"\u001b[0m\u001b[0;34m+\u001b[0m\u001b[0mstr\u001b[0m\u001b[0;34m(\u001b[0m\u001b[0mtrain_test_set\u001b[0m\u001b[0;34m[\u001b[0m\u001b[0;34m'split_threshold'\u001b[0m\u001b[0;34m]\u001b[0m\u001b[0;34m)\u001b[0m\u001b[0;34m)\u001b[0m\u001b[0;34m\u001b[0m\u001b[0m\n\u001b[0m\u001b[1;32m    360\u001b[0m \u001b[0;34m\u001b[0m\u001b[0m\n\u001b[1;32m    361\u001b[0m \u001b[0;34m\u001b[0m\u001b[0m\n",
      "\u001b[0;31mKeyError\u001b[0m: 'split_threshold'"
     ]
    }
   ],
   "source": [
    "importlib.reload(pipeline)\n",
    "\n",
    "results = pipeline.iterate_over_models_and_training_test_sets(models_to_run, models, parameters_grid, train_test_sets)\n",
    "results"
   ]
  },
  {
   "cell_type": "markdown",
   "metadata": {},
   "source": [
    "# Observe best models for each train/test set"
   ]
  },
  {
   "cell_type": "markdown",
   "metadata": {},
   "source": [
    "## Ranking by AUC"
   ]
  },
  {
   "cell_type": "code",
   "execution_count": null,
   "metadata": {},
   "outputs": [],
   "source": [
    "#Lets obtain the best model for each train/test set\n",
    "\n",
    "#indices of rows that have max auc for each train/test set\n",
    "idx = results.groupby(['train_test_split_threshold'])['auc-roc'].transform(max) == results['auc-roc']\n",
    "\n",
    "#display best models\n",
    "best_auc = results[idx]\n",
    "best_auc"
   ]
  },
  {
   "cell_type": "markdown",
   "metadata": {},
   "source": [
    "# Compare all models performance at different train/test sets"
   ]
  },
  {
   "cell_type": "code",
   "execution_count": null,
   "metadata": {},
   "outputs": [],
   "source": [
    "#For each model, find the set of parameters that work the best in each train/test set\n",
    "\n",
    "#In this dataframe we will save the best model for each type of model (ex 1 LR, 1 RF..), whichever perfomed the best in each train/test set\n",
    "best_models= pd.DataFrame()\n",
    "\n",
    "for model in models_to_run:\n",
    "  #Filter data selecting only rows of this specific model\n",
    "  results_of_model = results[results[\"model_name\"]==model]  \n",
    "  #For each train/test set, find index of best model (parameters)\n",
    "  idx = results_of_model.groupby(['train_test_split_threshold'])['auc-roc'].transform(max) == results_of_model['auc-roc']\n",
    "    \n",
    "  #Grab those results based on index\n",
    "  best_model = results_of_model[idx]\n",
    "  #Append it to final list\n",
    "  best_models=best_models.append(best_model)"
   ]
  },
  {
   "cell_type": "code",
   "execution_count": null,
   "metadata": {},
   "outputs": [],
   "source": [
    "import matplotlib.pyplot as plt\n",
    "\n",
    "#Clear plot\n",
    "plt.clf()\n",
    "\n",
    "#Create plot and axis\n",
    "fig, ax1 = plt.subplots()\n",
    "\n",
    "#Create lines for each model\n",
    "for model in models_to_run:\n",
    "  ax1.plot( 'test_set_start_date', 'auc-roc', data=best_models[best_models['model_name']==model], label=model, marker='o', markersize=6, linewidth=4,alpha=0.6)\n",
    "\n",
    "#Show legends\n",
    "plt.legend()\n",
    "\n",
    "#Set axis labels\n",
    "ax1.set_xlabel('Test set start date')\n",
    "ax1.set_ylabel('AUC-ROC',)\n",
    "\n",
    "#Invert x_axis so as to show from earliest to latest\n",
    "ax1.invert_xaxis()\n",
    "\n",
    "plt.show()"
   ]
  },
  {
   "cell_type": "code",
   "execution_count": null,
   "metadata": {},
   "outputs": [],
   "source": []
  },
  {
   "cell_type": "code",
   "execution_count": null,
   "metadata": {},
   "outputs": [],
   "source": []
  },
  {
   "cell_type": "code",
   "execution_count": null,
   "metadata": {},
   "outputs": [],
   "source": []
  }
 ],
 "metadata": {
  "kernelspec": {
   "display_name": "Python 3",
   "language": "python",
   "name": "python3"
  },
  "language_info": {
   "codemirror_mode": {
    "name": "ipython",
    "version": 3
   },
   "file_extension": ".py",
   "mimetype": "text/x-python",
   "name": "python",
   "nbconvert_exporter": "python",
   "pygments_lexer": "ipython3",
   "version": "3.5.2"
  }
 },
 "nbformat": 4,
 "nbformat_minor": 2
}
