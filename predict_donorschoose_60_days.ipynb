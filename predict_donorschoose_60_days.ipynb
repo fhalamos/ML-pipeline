{
 "cells": [
  {
   "cell_type": "markdown",
   "metadata": {},
   "source": [
    "Inspired/based on https://github.com/rayidghani/magicloops and https://github.com/dssg/MLforPublicPolicy/blob/master/labs/2019/lab6_feature_generation_sol.ipynb"
   ]
  },
  {
   "cell_type": "code",
   "execution_count": 13,
   "metadata": {},
   "outputs": [],
   "source": [
    "import pipeline_v2 as pipeline\n",
    "import importlib\n",
    "import datetime\n",
    "import pandas as pd\n",
    "import numpy as np"
   ]
  },
  {
   "cell_type": "markdown",
   "metadata": {},
   "source": [
    "# Read data"
   ]
  },
  {
   "cell_type": "code",
   "execution_count": 14,
   "metadata": {},
   "outputs": [],
   "source": [
    "importlib.reload(pipeline)\n",
    "\n",
    "datafile = \"projects_2012_2013.csv\"\n",
    "data = pd.read_csv(datafile, parse_dates=['date_posted', 'datefullyfunded'])"
   ]
  },
  {
   "cell_type": "markdown",
   "metadata": {},
   "source": [
    "# Explore data"
   ]
  },
  {
   "cell_type": "code",
   "execution_count": 15,
   "metadata": {},
   "outputs": [
    {
     "name": "stdout",
     "output_type": "stream",
     "text": [
      "Data exploration...\n",
      "\n",
      "Number of rows: 124976\n",
      "\n",
      "Columns and types of data:\n",
      "projectid                                         object\n",
      "teacher_acctid                                    object\n",
      "schoolid                                          object\n",
      "school_ncesid                                    float64\n",
      "school_latitude                                  float64\n",
      "school_longitude                                 float64\n",
      "school_city                                       object\n",
      "school_state                                      object\n",
      "school_metro                                      object\n",
      "school_district                                   object\n",
      "school_county                                     object\n",
      "school_charter                                    object\n",
      "school_magnet                                     object\n",
      "teacher_prefix                                    object\n",
      "primary_focus_subject                             object\n",
      "primary_focus_area                                object\n",
      "secondary_focus_subject                           object\n",
      "secondary_focus_area                              object\n",
      "resource_type                                     object\n",
      "poverty_level                                     object\n",
      "grade_level                                       object\n",
      "total_price_including_optional_support           float64\n",
      "students_reached                                 float64\n",
      "eligible_double_your_impact_match                 object\n",
      "date_posted                               datetime64[ns]\n",
      "datefullyfunded                           datetime64[ns]\n",
      "dtype: object\n",
      "\n",
      "\n",
      "Statistics for selected variables:\n",
      "count    124976.000000\n",
      "mean        654.011811\n",
      "std        1098.015854\n",
      "min          92.000000\n",
      "25%         345.810000\n",
      "50%         510.500000\n",
      "75%         752.960000\n",
      "max      164382.840000\n",
      "Name: total_price_including_optional_support, dtype: float64\n",
      "Number of outliers (>4 standard dev):521\n",
      "\n",
      "\n",
      "count    124917.000000\n",
      "mean         95.445760\n",
      "std         163.481912\n",
      "min           1.000000\n",
      "25%          23.000000\n",
      "50%          30.000000\n",
      "75%         100.000000\n",
      "max       12143.000000\n",
      "Name: students_reached, dtype: float64\n",
      "Number of outliers (>4 standard dev):2063\n",
      "\n",
      "\n",
      "\n",
      "\n",
      "Correlation between ['total_price_including_optional_support', 'students_reached']\n",
      "0.17662743502916253\n"
     ]
    },
    {
     "data": {
      "image/png": "[encoded data removed]",
      "text/plain": [
       "<Figure size 432x288 with 1 Axes>"
      ]
     },
     "metadata": {
      "needs_background": "light"
     },
     "output_type": "display_data"
    },
    {
     "data": {
      "image/png": "[encoded data removed]",
      "text/plain": [
       "<Figure size 432x288 with 1 Axes>"
      ]
     },
     "metadata": {
      "needs_background": "light"
     },
     "output_type": "display_data"
    }
   ],
   "source": [
    "importlib.reload(pipeline)\n",
    "\n",
    "stats_for_variables = [\n",
    "  'total_price_including_optional_support',\n",
    "  'students_reached'\n",
    "]\n",
    "\n",
    "variables_for_correlation = [\n",
    "  'total_price_including_optional_support',\n",
    "  'students_reached'\n",
    "]\n",
    "\n",
    "pipeline.explore_data(data, stats_for_variables, variables_for_correlation)"
   ]
  },
  {
   "cell_type": "markdown",
   "metadata": {},
   "source": [
    "We can clearly see in the histograms that total_price_including_optional_support and students_reached have very big outliers."
   ]
  },
  {
   "cell_type": "markdown",
   "metadata": {},
   "source": [
    "# Create outcome label"
   ]
  },
  {
   "cell_type": "code",
   "execution_count": 17,
   "metadata": {},
   "outputs": [],
   "source": [
    "importlib.reload(pipeline)\n",
    "\n",
    "# The task is to predict if a project will not get fully funded within 60 days of posting.\n",
    "data['duration_of_funding'] = data.datefullyfunded - data.date_posted\n",
    "data['not_funded_in_60'] =  np.where(data['duration_of_funding']<=pd.Timedelta('60 days'), 1, 0)\n",
    "output_label ='not_funded_in_60'"
   ]
  },
  {
   "cell_type": "markdown",
   "metadata": {},
   "source": [
    "# Create features"
   ]
  },
  {
   "cell_type": "code",
   "execution_count": 18,
   "metadata": {},
   "outputs": [],
   "source": [
    "'''\n",
    "Selected features:\n",
    "-All categorical(str_columns) columns that have less than 50 unique values, we will convert them to binary values (ex: school_metro, poverty_level)\n",
    "-Continuous float variables that are informative to this problem (total_price_including_optional_support, students_reached)\n",
    "-We will also discretize float variables that have significant outliers (more than 6 std from mean). These are exactly the two previous continues variables \n",
    "-We will keep both continuous and discrete values of these variables, since one informs the exact values which could be useful, and the other helps us manage outliers. We dont know which version will be initially more useful for the model so we will keep both.\n",
    "-Continuous int variables for month and year of project date_posted\n",
    "-Aggregation feature: amount of projects founded in the last 10 days\n",
    "'''\n",
    "\n",
    "#Select columns from which we will create binary features. We use string columns who have less than 50 different values (we dont want to generate too many binary values)\n",
    "str_columns = [column for column in data.columns if data[column].dtype=='object' and len(data[column].unique())<51]\n",
    "\n",
    "#Continuous float variables that are meaningful for this problem.\n",
    "float_columns = ['total_price_including_optional_support', 'students_reached']\n",
    "\n",
    "#Columns with float values to generate discrete features\n",
    "float_columns_for_discretization = [column for column in data.columns if data[column].dtype=='float' and (data[column].max()-data[column].mean())/data[column].std()>6]"
   ]
  },
  {
   "cell_type": "code",
   "execution_count": 19,
   "metadata": {},
   "outputs": [],
   "source": [
    "importlib.reload(pipeline)\n",
    "\n",
    "#Generate the binary features\n",
    "features = pipeline.create_dummies(data[str_columns], str_columns)\n",
    "\n",
    "#Using qcut due to outliers (if not, almost all datapoints end up in 'low')\n",
    "for float_column in float_columns_for_discretization:\n",
    "    features[float_column+'_discrete'] = pd.qcut(data[float_column], 5, labels=['low', 'medium low', 'medium', 'medium high', 'high'])\n",
    "\n",
    "#Name of the columns for the discrete values in the features df\n",
    "float_columns_discrete = [float_column + '_discrete' for float_column in float_columns_for_discretization]\n",
    "    \n",
    "#Generate binary features for the new discretized columns\n",
    "features = pipeline.create_dummies(features, float_columns_discrete)\n",
    "\n",
    "#Include continuous float variables as features\n",
    "# for float_column in float_columns:\n",
    "#     features[float_column]=data[float_column]\n",
    "\n",
    "#Include month and year of date posted as feature\n",
    "features['year'] = pd.DatetimeIndex(data['date_posted']).year\n",
    "features['month'] = pd.DatetimeIndex(data['date_posted']).month\n"
   ]
  },
  {
   "cell_type": "code",
   "execution_count": 20,
   "metadata": {},
   "outputs": [],
   "source": [
    "#Aggregate feature: number of projects that got funded in the last 10 days. Idea: if many projects have been funded lately, this could be good info to predictor if a project will be funded soon\n",
    "\n",
    "#List of all dates where projects have been posted\n",
    "date_posted_list = pd.to_datetime(data['date_posted'].unique())\n",
    "\n",
    "#We use a dictionary to save the amount of projects that have been funded within the last 10 days in each specific day\n",
    "num_projects_funded_dict = {}\n",
    "\n",
    "#For every possible date_posted\n",
    "for date_posted in date_posted_list:\n",
    "  #For each project, we calculate the difference between the current observed date and the project funded date\n",
    "  #Lets remember that the difference between a value (date_posted) and a series (data['datefullyfunded']) is a series\n",
    "  diff_date_and_fully_funded = date_posted - data['datefullyfunded']\n",
    "  \n",
    "  #Count how many projects have a difference between fully funded date and current date bigger than 0 and smaller or equal than 10\n",
    "  amount_funded_in_last_10_days = np.sum((diff_date_and_fully_funded>pd.Timedelta('0 days')) & (diff_date_and_fully_funded<=pd.Timedelta('10 days')))\n",
    "  \n",
    "  #Save the amount in dictionary\n",
    "  num_projects_funded_dict[date_posted.strftime(\"%Y%m%d\")]= amount_funded_in_last_10_days\n",
    "\n",
    "#We create the column to be attached, initially full of zeros for each row in the dataframe\n",
    "num_of_projects_funded_10_days = np.zeros(len(data))\n",
    "for index, row in data.iterrows():\n",
    "  num_of_projects_funded_10_days[index] = num_projects_funded_dict[row['date_posted'].strftime(\"%Y%m%d\")]"
   ]
  },
  {
   "cell_type": "code",
   "execution_count": 21,
   "metadata": {},
   "outputs": [],
   "source": [
    "#Attach the created column to features\n",
    "features['num_of_projects_funded_10_days']=num_of_projects_funded_10_days"
   ]
  },
  {
   "cell_type": "markdown",
   "metadata": {},
   "source": [
    "# Create temporal train and test sets"
   ]
  },
  {
   "cell_type": "code",
   "execution_count": 22,
   "metadata": {},
   "outputs": [],
   "source": [
    "importlib.reload(pipeline)\n",
    "from dateutil.relativedelta import relativedelta\n",
    "\n",
    "#Create three sets of train and test data, based on threee different split thresholds\n",
    "#The split thresholds corresponds to the starting date of the testing data\n",
    "split_thresholds = [pd.Timestamp(2013,7,1), pd.Timestamp(2013,1,1), pd.Timestamp(2012,7,1)]\n",
    "\n",
    "#Indicating which is the column to be used for splitting training and test daata\n",
    "date_column='date_posted'\n",
    "\n",
    "#Amount of data used for test set\n",
    "test_window = relativedelta(months=6)\n",
    "\n",
    "#Gap needed between training and test set. 60 days in this case\n",
    "gap_training_test = relativedelta(days=100)\n",
    "\n",
    "#Generate train and test sets\n",
    "train_test_sets= pipeline.create_temp_validation_train_and_testing_sets(\n",
    "  data,\n",
    "  features,\n",
    "  date_column,\n",
    "  output_label,\n",
    "  split_thresholds,\n",
    "  test_window,\n",
    "  gap_training_test)"
   ]
  },
  {
   "cell_type": "markdown",
   "metadata": {},
   "source": [
    "# Process data"
   ]
  },
  {
   "cell_type": "code",
   "execution_count": 23,
   "metadata": {
    "scrolled": true
   },
   "outputs": [],
   "source": [
    "importlib.reload(pipeline)\n",
    "\n",
    "columns_to_process = [\n",
    "  'total_price_including_optional_support',\n",
    "  'students_reached'\n",
    "]"
   ]
  },
  {
   "cell_type": "markdown",
   "metadata": {},
   "source": [
    "# Build Clasifiers and parameters generation"
   ]
  },
  {
   "cell_type": "code",
   "execution_count": 24,
   "metadata": {},
   "outputs": [],
   "source": [
    "importlib.reload(pipeline)\n",
    "\n",
    "#We define the specific models we want to run\n",
    "#In the meantime not running BA because it takes a long time\n",
    "#According to what sploken with Rayid, not running SVM, KNN, NB. Althoguh available in pipeline\n",
    "models_to_run=['DT','LR','RF','ET','AB','GB']#,'BA', 'SVM','KNN','NB']\n",
    "\n",
    "#Get all posible models and their different sets of parameters\n",
    "models, parameters_grid = pipeline.get_models_and_parameters()\n"
   ]
  },
  {
   "cell_type": "markdown",
   "metadata": {},
   "source": [
    "# Loop over models and different training/test sets"
   ]
  },
  {
   "cell_type": "code",
   "execution_count": 31,
   "metadata": {},
   "outputs": [
    {
     "ename": "AssertionError",
     "evalue": "invalid action: 'never'",
     "output_type": "error",
     "traceback": [
      "\u001b[0;31m---------------------------------------------------------------------------\u001b[0m",
      "\u001b[0;31mAssertionError\u001b[0m                            Traceback (most recent call last)",
      "\u001b[0;32m<ipython-input-31-b07e0f07f0a4>\u001b[0m in \u001b[0;36m<module>\u001b[0;34m\u001b[0m\n\u001b[1;32m      2\u001b[0m \u001b[0;32mimport\u001b[0m \u001b[0mwarnings\u001b[0m\u001b[0;34m\u001b[0m\u001b[0m\n\u001b[1;32m      3\u001b[0m \u001b[0;34m\u001b[0m\u001b[0m\n\u001b[0;32m----> 4\u001b[0;31m \u001b[0mwarnings\u001b[0m\u001b[0;34m.\u001b[0m\u001b[0mfilterwarnings\u001b[0m\u001b[0;34m(\u001b[0m\u001b[0;34m'never'\u001b[0m\u001b[0;34m)\u001b[0m\u001b[0;34m\u001b[0m\u001b[0m\n\u001b[0m\u001b[1;32m      5\u001b[0m \u001b[0;34m\u001b[0m\u001b[0m\n\u001b[1;32m      6\u001b[0m \u001b[0mresults\u001b[0m \u001b[0;34m=\u001b[0m \u001b[0mpipeline\u001b[0m\u001b[0;34m.\u001b[0m\u001b[0miterate_over_models_and_training_test_sets\u001b[0m\u001b[0;34m(\u001b[0m\u001b[0mmodels_to_run\u001b[0m\u001b[0;34m,\u001b[0m \u001b[0mmodels\u001b[0m\u001b[0;34m,\u001b[0m \u001b[0mparameters_grid\u001b[0m\u001b[0;34m,\u001b[0m \u001b[0mtrain_test_sets\u001b[0m\u001b[0;34m)\u001b[0m\u001b[0;34m\u001b[0m\u001b[0m\n",
      "\u001b[0;32m/usr/lib/python3.5/warnings.py\u001b[0m in \u001b[0;36mfilterwarnings\u001b[0;34m(action, message, category, module, lineno, append)\u001b[0m\n\u001b[1;32m     50\u001b[0m     \u001b[0;32mimport\u001b[0m \u001b[0mre\u001b[0m\u001b[0;34m\u001b[0m\u001b[0m\n\u001b[1;32m     51\u001b[0m     assert action in (\"error\", \"ignore\", \"always\", \"default\", \"module\",\n\u001b[0;32m---> 52\u001b[0;31m                       \"once\"), \"invalid action: %r\" % (action,)\n\u001b[0m\u001b[1;32m     53\u001b[0m     \u001b[0;32massert\u001b[0m \u001b[0misinstance\u001b[0m\u001b[0;34m(\u001b[0m\u001b[0mmessage\u001b[0m\u001b[0;34m,\u001b[0m \u001b[0mstr\u001b[0m\u001b[0;34m)\u001b[0m\u001b[0;34m,\u001b[0m \u001b[0;34m\"message must be a string\"\u001b[0m\u001b[0;34m\u001b[0m\u001b[0m\n\u001b[1;32m     54\u001b[0m     \u001b[0;32massert\u001b[0m \u001b[0misinstance\u001b[0m\u001b[0;34m(\u001b[0m\u001b[0mcategory\u001b[0m\u001b[0;34m,\u001b[0m \u001b[0mtype\u001b[0m\u001b[0;34m)\u001b[0m\u001b[0;34m,\u001b[0m \u001b[0;34m\"category must be a class\"\u001b[0m\u001b[0;34m\u001b[0m\u001b[0m\n",
      "\u001b[0;31mAssertionError\u001b[0m: invalid action: 'never'"
     ]
    }
   ],
   "source": [
    "importlib.reload(pipeline)\n",
    "import warnings\n",
    "\n",
    "warnings.filterwarnings('never')\n",
    "\n",
    "results = pipeline.iterate_over_models_and_training_test_sets(models_to_run, models, parameters_grid, train_test_sets)\n",
    "results"
   ]
  },
  {
   "cell_type": "markdown",
   "metadata": {},
   "source": [
    "# Observe best models for each train/test set"
   ]
  },
  {
   "cell_type": "markdown",
   "metadata": {},
   "source": [
    "## Ranking by Precision at 5%"
   ]
  },
  {
   "cell_type": "code",
   "execution_count": 26,
   "metadata": {},
   "outputs": [
    {
     "data": {
      "text/html": [
       "<div>\n",
       "<style scoped>\n",
       "    .dataframe tbody tr th:only-of-type {\n",
       "        vertical-align: middle;\n",
       "    }\n",
       "\n",
       "    .dataframe tbody tr th {\n",
       "        vertical-align: top;\n",
       "    }\n",
       "\n",
       "    .dataframe thead th {\n",
       "        text-align: right;\n",
       "    }\n",
       "</style>\n",
       "<table border=\"1\" class=\"dataframe\">\n",
       "  <thead>\n",
       "    <tr style=\"text-align: right;\">\n",
       "      <th></th>\n",
       "      <th>model_name</th>\n",
       "      <th>model</th>\n",
       "      <th>parameters</th>\n",
       "      <th>test_set_start_date</th>\n",
       "      <th>baseline</th>\n",
       "      <th>p_at_5</th>\n",
       "      <th>r_at_5</th>\n",
       "      <th>f1_at_5</th>\n",
       "      <th>auc-roc</th>\n",
       "    </tr>\n",
       "  </thead>\n",
       "  <tbody>\n",
       "    <tr>\n",
       "      <th>0</th>\n",
       "      <td>DT</td>\n",
       "      <td>DecisionTreeClassifier(class_weight=None, crit...</td>\n",
       "      <td>{'min_samples_split': 10, 'max_depth': 1, 'cri...</td>\n",
       "      <td>2013-07-01</td>\n",
       "      <td>0.736791</td>\n",
       "      <td>1.0</td>\n",
       "      <td>0.067827</td>\n",
       "      <td>0.127038</td>\n",
       "      <td>0.549326</td>\n",
       "    </tr>\n",
       "    <tr>\n",
       "      <th>2</th>\n",
       "      <td>RF</td>\n",
       "      <td>(DecisionTreeClassifier(class_weight=None, cri...</td>\n",
       "      <td>{'min_samples_split': 10, 'max_features': 'sqr...</td>\n",
       "      <td>2013-07-01</td>\n",
       "      <td>0.736791</td>\n",
       "      <td>1.0</td>\n",
       "      <td>0.067827</td>\n",
       "      <td>0.127038</td>\n",
       "      <td>0.541743</td>\n",
       "    </tr>\n",
       "    <tr>\n",
       "      <th>3</th>\n",
       "      <td>ET</td>\n",
       "      <td>(ExtraTreeClassifier(class_weight=None, criter...</td>\n",
       "      <td>{'min_samples_split': 10, 'max_features': 'sqr...</td>\n",
       "      <td>2013-07-01</td>\n",
       "      <td>0.736791</td>\n",
       "      <td>1.0</td>\n",
       "      <td>0.067827</td>\n",
       "      <td>0.127038</td>\n",
       "      <td>0.548102</td>\n",
       "    </tr>\n",
       "    <tr>\n",
       "      <th>4</th>\n",
       "      <td>AB</td>\n",
       "      <td>(DecisionTreeClassifier(class_weight=None, cri...</td>\n",
       "      <td>{'n_estimators': 1, 'algorithm': 'SAMME'}</td>\n",
       "      <td>2013-07-01</td>\n",
       "      <td>0.736791</td>\n",
       "      <td>1.0</td>\n",
       "      <td>0.067827</td>\n",
       "      <td>0.127038</td>\n",
       "      <td>0.549326</td>\n",
       "    </tr>\n",
       "    <tr>\n",
       "      <th>5</th>\n",
       "      <td>GB</td>\n",
       "      <td>([DecisionTreeRegressor(criterion='friedman_ms...</td>\n",
       "      <td>{'learning_rate': 0.1, 'subsample': 0.5, 'max_...</td>\n",
       "      <td>2013-07-01</td>\n",
       "      <td>0.736791</td>\n",
       "      <td>1.0</td>\n",
       "      <td>0.067827</td>\n",
       "      <td>0.127038</td>\n",
       "      <td>0.549326</td>\n",
       "    </tr>\n",
       "    <tr>\n",
       "      <th>6</th>\n",
       "      <td>DT</td>\n",
       "      <td>DecisionTreeClassifier(class_weight=None, crit...</td>\n",
       "      <td>{'min_samples_split': 10, 'max_depth': 1, 'cri...</td>\n",
       "      <td>2013-01-01</td>\n",
       "      <td>0.704587</td>\n",
       "      <td>1.0</td>\n",
       "      <td>0.070938</td>\n",
       "      <td>0.132478</td>\n",
       "      <td>0.553470</td>\n",
       "    </tr>\n",
       "    <tr>\n",
       "      <th>10</th>\n",
       "      <td>AB</td>\n",
       "      <td>(DecisionTreeClassifier(class_weight=None, cri...</td>\n",
       "      <td>{'n_estimators': 1, 'algorithm': 'SAMME'}</td>\n",
       "      <td>2013-01-01</td>\n",
       "      <td>0.704587</td>\n",
       "      <td>1.0</td>\n",
       "      <td>0.070938</td>\n",
       "      <td>0.132478</td>\n",
       "      <td>0.553470</td>\n",
       "    </tr>\n",
       "    <tr>\n",
       "      <th>11</th>\n",
       "      <td>GB</td>\n",
       "      <td>([DecisionTreeRegressor(criterion='friedman_ms...</td>\n",
       "      <td>{'learning_rate': 0.1, 'subsample': 0.5, 'max_...</td>\n",
       "      <td>2013-01-01</td>\n",
       "      <td>0.704587</td>\n",
       "      <td>1.0</td>\n",
       "      <td>0.070938</td>\n",
       "      <td>0.132478</td>\n",
       "      <td>0.553470</td>\n",
       "    </tr>\n",
       "    <tr>\n",
       "      <th>12</th>\n",
       "      <td>DT</td>\n",
       "      <td>DecisionTreeClassifier(class_weight=None, crit...</td>\n",
       "      <td>{'min_samples_split': 10, 'max_depth': 1, 'cri...</td>\n",
       "      <td>2012-07-01</td>\n",
       "      <td>0.742604</td>\n",
       "      <td>1.0</td>\n",
       "      <td>0.067256</td>\n",
       "      <td>0.126036</td>\n",
       "      <td>0.552912</td>\n",
       "    </tr>\n",
       "    <tr>\n",
       "      <th>15</th>\n",
       "      <td>ET</td>\n",
       "      <td>(ExtraTreeClassifier(class_weight=None, criter...</td>\n",
       "      <td>{'min_samples_split': 10, 'max_features': 'sqr...</td>\n",
       "      <td>2012-07-01</td>\n",
       "      <td>0.742604</td>\n",
       "      <td>1.0</td>\n",
       "      <td>0.067256</td>\n",
       "      <td>0.126036</td>\n",
       "      <td>0.543629</td>\n",
       "    </tr>\n",
       "    <tr>\n",
       "      <th>16</th>\n",
       "      <td>AB</td>\n",
       "      <td>(DecisionTreeClassifier(class_weight=None, cri...</td>\n",
       "      <td>{'n_estimators': 1, 'algorithm': 'SAMME'}</td>\n",
       "      <td>2012-07-01</td>\n",
       "      <td>0.742604</td>\n",
       "      <td>1.0</td>\n",
       "      <td>0.067256</td>\n",
       "      <td>0.126036</td>\n",
       "      <td>0.552912</td>\n",
       "    </tr>\n",
       "    <tr>\n",
       "      <th>17</th>\n",
       "      <td>GB</td>\n",
       "      <td>([DecisionTreeRegressor(criterion='friedman_ms...</td>\n",
       "      <td>{'learning_rate': 0.1, 'subsample': 0.5, 'max_...</td>\n",
       "      <td>2012-07-01</td>\n",
       "      <td>0.742604</td>\n",
       "      <td>1.0</td>\n",
       "      <td>0.067256</td>\n",
       "      <td>0.126036</td>\n",
       "      <td>0.552912</td>\n",
       "    </tr>\n",
       "  </tbody>\n",
       "</table>\n",
       "</div>"
      ],
      "text/plain": [
       "   model_name                                              model  \\\n",
       "0          DT  DecisionTreeClassifier(class_weight=None, crit...   \n",
       "2          RF  (DecisionTreeClassifier(class_weight=None, cri...   \n",
       "3          ET  (ExtraTreeClassifier(class_weight=None, criter...   \n",
       "4          AB  (DecisionTreeClassifier(class_weight=None, cri...   \n",
       "5          GB  ([DecisionTreeRegressor(criterion='friedman_ms...   \n",
       "6          DT  DecisionTreeClassifier(class_weight=None, crit...   \n",
       "10         AB  (DecisionTreeClassifier(class_weight=None, cri...   \n",
       "11         GB  ([DecisionTreeRegressor(criterion='friedman_ms...   \n",
       "12         DT  DecisionTreeClassifier(class_weight=None, crit...   \n",
       "15         ET  (ExtraTreeClassifier(class_weight=None, criter...   \n",
       "16         AB  (DecisionTreeClassifier(class_weight=None, cri...   \n",
       "17         GB  ([DecisionTreeRegressor(criterion='friedman_ms...   \n",
       "\n",
       "                                           parameters test_set_start_date  \\\n",
       "0   {'min_samples_split': 10, 'max_depth': 1, 'cri...          2013-07-01   \n",
       "2   {'min_samples_split': 10, 'max_features': 'sqr...          2013-07-01   \n",
       "3   {'min_samples_split': 10, 'max_features': 'sqr...          2013-07-01   \n",
       "4           {'n_estimators': 1, 'algorithm': 'SAMME'}          2013-07-01   \n",
       "5   {'learning_rate': 0.1, 'subsample': 0.5, 'max_...          2013-07-01   \n",
       "6   {'min_samples_split': 10, 'max_depth': 1, 'cri...          2013-01-01   \n",
       "10          {'n_estimators': 1, 'algorithm': 'SAMME'}          2013-01-01   \n",
       "11  {'learning_rate': 0.1, 'subsample': 0.5, 'max_...          2013-01-01   \n",
       "12  {'min_samples_split': 10, 'max_depth': 1, 'cri...          2012-07-01   \n",
       "15  {'min_samples_split': 10, 'max_features': 'sqr...          2012-07-01   \n",
       "16          {'n_estimators': 1, 'algorithm': 'SAMME'}          2012-07-01   \n",
       "17  {'learning_rate': 0.1, 'subsample': 0.5, 'max_...          2012-07-01   \n",
       "\n",
       "    baseline  p_at_5    r_at_5   f1_at_5   auc-roc  \n",
       "0   0.736791     1.0  0.067827  0.127038  0.549326  \n",
       "2   0.736791     1.0  0.067827  0.127038  0.541743  \n",
       "3   0.736791     1.0  0.067827  0.127038  0.548102  \n",
       "4   0.736791     1.0  0.067827  0.127038  0.549326  \n",
       "5   0.736791     1.0  0.067827  0.127038  0.549326  \n",
       "6   0.704587     1.0  0.070938  0.132478  0.553470  \n",
       "10  0.704587     1.0  0.070938  0.132478  0.553470  \n",
       "11  0.704587     1.0  0.070938  0.132478  0.553470  \n",
       "12  0.742604     1.0  0.067256  0.126036  0.552912  \n",
       "15  0.742604     1.0  0.067256  0.126036  0.543629  \n",
       "16  0.742604     1.0  0.067256  0.126036  0.552912  \n",
       "17  0.742604     1.0  0.067256  0.126036  0.552912  "
      ]
     },
     "execution_count": 26,
     "metadata": {},
     "output_type": "execute_result"
    }
   ],
   "source": [
    "#Lets obtain the best model for each train/test set\n",
    "\n",
    "#indices of rows that have max precision at 5% for each train/test set\n",
    "idx = results.groupby(['test_set_start_date'])['p_at_5'].transform(max) == results['p_at_5']\n",
    "\n",
    "#display best models\n",
    "best_p_at_5 = results[idx].iloc[:, [0,1,2,3,4,11,12,13,26]]\n",
    "best_p_at_5"
   ]
  },
  {
   "cell_type": "markdown",
   "metadata": {},
   "source": [
    "## Ranking by AUC"
   ]
  },
  {
   "cell_type": "code",
   "execution_count": 27,
   "metadata": {},
   "outputs": [
    {
     "data": {
      "text/html": [
       "<div>\n",
       "<style scoped>\n",
       "    .dataframe tbody tr th:only-of-type {\n",
       "        vertical-align: middle;\n",
       "    }\n",
       "\n",
       "    .dataframe tbody tr th {\n",
       "        vertical-align: top;\n",
       "    }\n",
       "\n",
       "    .dataframe thead th {\n",
       "        text-align: right;\n",
       "    }\n",
       "</style>\n",
       "<table border=\"1\" class=\"dataframe\">\n",
       "  <thead>\n",
       "    <tr style=\"text-align: right;\">\n",
       "      <th></th>\n",
       "      <th>model_name</th>\n",
       "      <th>model</th>\n",
       "      <th>parameters</th>\n",
       "      <th>test_set_start_date</th>\n",
       "      <th>baseline</th>\n",
       "      <th>p_at_1</th>\n",
       "      <th>r_at_1</th>\n",
       "      <th>f1_at_1</th>\n",
       "      <th>p_at_2</th>\n",
       "      <th>r_at_2</th>\n",
       "      <th>...</th>\n",
       "      <th>p_at_20</th>\n",
       "      <th>r_at_20</th>\n",
       "      <th>f1_at_20</th>\n",
       "      <th>p_at_30</th>\n",
       "      <th>r_at_30</th>\n",
       "      <th>f1_at_30</th>\n",
       "      <th>p_at_50</th>\n",
       "      <th>r_at_50</th>\n",
       "      <th>f1_at_50</th>\n",
       "      <th>auc-roc</th>\n",
       "    </tr>\n",
       "  </thead>\n",
       "  <tbody>\n",
       "    <tr>\n",
       "      <th>1</th>\n",
       "      <td>LR</td>\n",
       "      <td>LogisticRegression(C=0.01, class_weight=None, ...</td>\n",
       "      <td>{'penalty': 'l1', 'C': 0.01}</td>\n",
       "      <td>2013-07-01</td>\n",
       "      <td>0.736791</td>\n",
       "      <td>0.964103</td>\n",
       "      <td>0.013038</td>\n",
       "      <td>0.025729</td>\n",
       "      <td>0.961637</td>\n",
       "      <td>0.026077</td>\n",
       "      <td>...</td>\n",
       "      <td>0.900869</td>\n",
       "      <td>0.244538</td>\n",
       "      <td>0.384662</td>\n",
       "      <td>0.876001</td>\n",
       "      <td>0.356682</td>\n",
       "      <td>0.506949</td>\n",
       "      <td>0.826673</td>\n",
       "      <td>0.560996</td>\n",
       "      <td>0.668402</td>\n",
       "      <td>0.657570</td>\n",
       "    </tr>\n",
       "    <tr>\n",
       "      <th>7</th>\n",
       "      <td>LR</td>\n",
       "      <td>LogisticRegression(C=0.01, class_weight=None, ...</td>\n",
       "      <td>{'penalty': 'l1', 'C': 0.01}</td>\n",
       "      <td>2013-01-01</td>\n",
       "      <td>0.704587</td>\n",
       "      <td>0.972477</td>\n",
       "      <td>0.013747</td>\n",
       "      <td>0.027110</td>\n",
       "      <td>0.972477</td>\n",
       "      <td>0.027493</td>\n",
       "      <td>...</td>\n",
       "      <td>0.893510</td>\n",
       "      <td>0.253534</td>\n",
       "      <td>0.394989</td>\n",
       "      <td>0.869327</td>\n",
       "      <td>0.370121</td>\n",
       "      <td>0.519192</td>\n",
       "      <td>0.813231</td>\n",
       "      <td>0.577098</td>\n",
       "      <td>0.675112</td>\n",
       "      <td>0.679598</td>\n",
       "    </tr>\n",
       "    <tr>\n",
       "      <th>13</th>\n",
       "      <td>LR</td>\n",
       "      <td>LogisticRegression(C=0.01, class_weight=None, ...</td>\n",
       "      <td>{'penalty': 'l1', 'C': 0.01}</td>\n",
       "      <td>2012-07-01</td>\n",
       "      <td>0.742604</td>\n",
       "      <td>0.888889</td>\n",
       "      <td>0.011921</td>\n",
       "      <td>0.023527</td>\n",
       "      <td>0.911439</td>\n",
       "      <td>0.024538</td>\n",
       "      <td>...</td>\n",
       "      <td>0.862044</td>\n",
       "      <td>0.232168</td>\n",
       "      <td>0.365814</td>\n",
       "      <td>0.822184</td>\n",
       "      <td>0.332108</td>\n",
       "      <td>0.473111</td>\n",
       "      <td>0.811864</td>\n",
       "      <td>0.546592</td>\n",
       "      <td>0.653328</td>\n",
       "      <td>0.619608</td>\n",
       "    </tr>\n",
       "  </tbody>\n",
       "</table>\n",
       "<p>3 rows × 27 columns</p>\n",
       "</div>"
      ],
      "text/plain": [
       "   model_name                                              model  \\\n",
       "1          LR  LogisticRegression(C=0.01, class_weight=None, ...   \n",
       "7          LR  LogisticRegression(C=0.01, class_weight=None, ...   \n",
       "13         LR  LogisticRegression(C=0.01, class_weight=None, ...   \n",
       "\n",
       "                      parameters test_set_start_date  baseline    p_at_1  \\\n",
       "1   {'penalty': 'l1', 'C': 0.01}          2013-07-01  0.736791  0.964103   \n",
       "7   {'penalty': 'l1', 'C': 0.01}          2013-01-01  0.704587  0.972477   \n",
       "13  {'penalty': 'l1', 'C': 0.01}          2012-07-01  0.742604  0.888889   \n",
       "\n",
       "      r_at_1   f1_at_1    p_at_2    r_at_2    ...      p_at_20   r_at_20  \\\n",
       "1   0.013038  0.025729  0.961637  0.026077    ...     0.900869  0.244538   \n",
       "7   0.013747  0.027110  0.972477  0.027493    ...     0.893510  0.253534   \n",
       "13  0.011921  0.023527  0.911439  0.024538    ...     0.862044  0.232168   \n",
       "\n",
       "    f1_at_20   p_at_30   r_at_30  f1_at_30   p_at_50   r_at_50  f1_at_50  \\\n",
       "1   0.384662  0.876001  0.356682  0.506949  0.826673  0.560996  0.668402   \n",
       "7   0.394989  0.869327  0.370121  0.519192  0.813231  0.577098  0.675112   \n",
       "13  0.365814  0.822184  0.332108  0.473111  0.811864  0.546592  0.653328   \n",
       "\n",
       "     auc-roc  \n",
       "1   0.657570  \n",
       "7   0.679598  \n",
       "13  0.619608  \n",
       "\n",
       "[3 rows x 27 columns]"
      ]
     },
     "execution_count": 27,
     "metadata": {},
     "output_type": "execute_result"
    }
   ],
   "source": [
    "#indices of rows that have max auc for each train/test set\n",
    "idx = results.groupby(['test_set_start_date'])['auc-roc'].transform(max) == results['auc-roc']\n",
    "\n",
    "#display best models\n",
    "best_auc = results[idx]\n",
    "best_auc"
   ]
  },
  {
   "cell_type": "markdown",
   "metadata": {},
   "source": [
    "# Compare all models performance at different train/test sets"
   ]
  },
  {
   "cell_type": "code",
   "execution_count": 28,
   "metadata": {},
   "outputs": [],
   "source": [
    "#For each model, find the set of parameters that work the best in each train/test set\n",
    "\n",
    "#In this dataframe we will save the best model for each type of model (ex 1 LR, 1 RF..), whichever perfomed the best in each train/test set\n",
    "best_models= pd.DataFrame()\n",
    "\n",
    "for model in models_to_run:\n",
    "  #Filter data selecting only rows of this specific modelpd.to_numeric(\n",
    "  results_of_model = results[results[\"model_name\"]==model]  \n",
    "  #For each train/test set, find index of best model (parameters)\n",
    "  idx = results_of_model.groupby(['test_set_start_date'])['auc-roc'].transform(max) == results_of_model['auc-roc']\n",
    "    \n",
    "  #Grab those results based on index\n",
    "  best_model = results_of_model[idx]\n",
    "  #Append it to final list\n",
    "  best_models=best_models.append(best_model)"
   ]
  },
  {
   "cell_type": "code",
   "execution_count": 29,
   "metadata": {},
   "outputs": [
    {
     "data": {
      "text/plain": [
       "<Figure size 432x288 with 0 Axes>"
      ]
     },
     "metadata": {},
     "output_type": "display_data"
    },
    {
     "data": {
      "image/png": "[encoded data removed]",
      "text/plain": [
       "<Figure size 432x288 with 1 Axes>"
      ]
     },
     "metadata": {
      "needs_background": "light"
     },
     "output_type": "display_data"
    }
   ],
   "source": [
    "import matplotlib.pyplot as plt\n",
    "\n",
    "#Clear plot\n",
    "plt.clf()\n",
    "\n",
    "#Create plot and axis\n",
    "fig, ax1 = plt.subplots()\n",
    "\n",
    "#Create lines for each model\n",
    "for model in models_to_run:\n",
    "  ax1.plot( 'test_set_start_date', 'auc-roc', data=best_models[best_models['model_name']==model], label=model, marker='o', markersize=6, linewidth=4,alpha=0.6)\n",
    "\n",
    "#Show legends\n",
    "plt.legend()\n",
    "\n",
    "#Set axis labels\n",
    "ax1.set_xlabel('Test set start date')\n",
    "ax1.set_ylabel('AUC-ROC',)\n",
    "\n",
    "#Invert x_axis so as to show from earliest to latest\n",
    "ax1.invert_xaxis()\n",
    "\n",
    "plt.show()"
   ]
  },
  {
   "cell_type": "code",
   "execution_count": null,
   "metadata": {},
   "outputs": [],
   "source": []
  },
  {
   "cell_type": "code",
   "execution_count": null,
   "metadata": {},
   "outputs": [],
   "source": []
  },
  {
   "cell_type": "code",
   "execution_count": null,
   "metadata": {},
   "outputs": [],
   "source": []
  },
  {
   "cell_type": "code",
   "execution_count": null,
   "metadata": {},
   "outputs": [],
   "source": []
  },
  {
   "cell_type": "code",
   "execution_count": null,
   "metadata": {},
   "outputs": [],
   "source": []
  },
  {
   "cell_type": "code",
   "execution_count": null,
   "metadata": {},
   "outputs": [],
   "source": []
  },
  {
   "cell_type": "code",
   "execution_count": null,
   "metadata": {},
   "outputs": [],
   "source": []
  }
 ],
 "metadata": {
  "kernelspec": {
   "display_name": "Python 3",
   "language": "python",
   "name": "python3"
  },
  "language_info": {
   "codemirror_mode": {
    "name": "ipython",
    "version": 3
   },
   "file_extension": ".py",
   "mimetype": "text/x-python",
   "name": "python",
   "nbconvert_exporter": "python",
   "pygments_lexer": "ipython3",
   "version": "3.5.2"
  }
 },
 "nbformat": 4,
 "nbformat_minor": 2
}
